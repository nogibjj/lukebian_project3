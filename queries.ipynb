{
 "cells": [
  {
   "cell_type": "code",
   "execution_count": 2,
   "metadata": {},
   "outputs": [],
   "source": [
    "import pandas as pd\n",
    "import sqlite3\n",
    "import csv\n",
    "import pandas as pd"
   ]
  },
  {
   "cell_type": "code",
   "execution_count": 2,
   "metadata": {},
   "outputs": [
    {
     "name": "stdout",
     "output_type": "stream",
     "text": [
      "         0               1     2       3        4    5     6\n",
      "0        1          Player  Year    Team     Role  MVP  Team\n",
      "1        2    Bradley Beal  2021  Durant  Starter    N   WAS\n",
      "2        3     Joel Embiid  2021  Durant  Starter    N   PHI\n",
      "3        4    Kyrie Irving  2021  Durant  Starter    N   BRK\n",
      "4        5   Kawhi Leonard  2021  Durant  Starter    N   LAC\n",
      "...    ...             ...   ...     ...      ...  ...   ...\n",
      "1711  1712   Frankie Brian  1951    West  Reserve    N   TRI\n",
      "1712  1713   Dike Eddleman  1951    West  Reserve    N   TRI\n",
      "1713  1714     Larry Foust  1951    West  Reserve    N   FTW\n",
      "1714  1715  Vern Mikkelsen  1951    West  Reserve    N   MNL\n",
      "1715  1716     Fred Schaus  1951    West  Reserve    N   FTW\n",
      "\n",
      "[1716 rows x 7 columns]\n"
     ]
    }
   ],
   "source": [
    "# Connecting to the database\n",
    "connection = sqlite3.connect('nbagames.db')\n",
    " \n",
    "# Creating a cursor object to execute\n",
    "# SQL queries on a database table\n",
    "cursor = connection.cursor()\n",
    "\n",
    "# get all the data from database\n",
    "fetch_alldata_sql = \"\"\"\n",
    "SELECT * FROM games;\n",
    "\"\"\"\n",
    "\n",
    "# executing the SQL query\n",
    "cursor.execute(fetch_alldata_sql)\n",
    "\n",
    "# storing the data in a variable using fetchall() method\n",
    "alldata = cursor.fetchall() # a list of tuples\n",
    "df = pd.DataFrame(alldata)\n",
    "print(df)"
   ]
  },
  {
   "cell_type": "code",
   "execution_count": 6,
   "metadata": {},
   "outputs": [
    {
     "name": "stdout",
     "output_type": "stream",
     "text": [
      "[('ATL',), ('BAL',), ('BLB',), ('BOS',), ('BRK',), ('BUF',), ('CAP',), ('CHA',), ('CHH',), ('CHI',), ('CHO',), ('CHP',), ('CHZ',), ('CIN',), ('CLE',), ('DAL',), ('DEN',), ('DET',), ('FTW',), ('GSW',), ('HOU',), ('IND',), ('INO',), ('KCK',), ('KCO',), ('LAC',), ('LAL',), ('MEM',), ('MIA',), ('MIL',), ('MIN',), ('MLH',), ('MNL',), ('NA',), ('NJN',), ('NOH',), ('NOJ',), ('NOP',), ('NYK',), ('OKC',), ('ORL',), ('PHI',), ('PHO',), ('PHW',), ('POR',), ('ROC',), ('SAC',), ('SAS',), ('SDC',), ('SDR',), ('SEA',), ('SFW',), ('STL',), ('SYR',), ('TOR',), ('TRI',), ('Team',), ('UTA',), ('WAS',), ('WSB',)]\n"
     ]
    }
   ],
   "source": [
    "#find all distinct teams\n",
    "connection = sqlite3.connect('nbagames.db')\n",
    "cursor = connection.cursor()\n",
    "\n",
    "sql_1 = \"\"\"\n",
    "SELECT distinct orginalteam\n",
    "FROM games\n",
    "ORDER BY orginalteam ASC;\n",
    "\"\"\"\n",
    "\n",
    "cursor.execute(sql_1)\n",
    "allteams = cursor.fetchall() # a list of tuples\n",
    "print(allteams)"
   ]
  },
  {
   "cell_type": "code",
   "execution_count": 13,
   "metadata": {},
   "outputs": [
    {
     "name": "stdout",
     "output_type": "stream",
     "text": [
      "[('BOS', 145), ('LAL', 107), ('NYK', 95), ('DET', 87), ('PHI', 74), ('PHO', 63), ('SAS', 56), ('HOU', 54), ('CHI', 54), ('ATL', 54), ('SEA', 49), ('NA', 49), ('MIL', 45), ('GSW', 43), ('UTA', 42), ('POR', 42), ('CLE', 41), ('MIA', 37), ('DEN', 35), ('DAL', 32), ('CIN', 31), ('STL', 30), ('SYR', 28), ('MNL', 28), ('IND', 28), ('PHW', 27), ('ORL', 23), ('TOR', 22), ('LAC', 21), ('BAL', 21), ('WSB', 20), ('SFW', 20), ('NJN', 20), ('MIN', 19), ('OKC', 18), ('WAS', 17), ('ROC', 17), ('SAC', 16), ('FTW', 16), ('NOP', 9), ('NOH', 9), ('CHH', 8), ('BUF', 8), ('MEM', 6), ('BRK', 6), ('SDR', 5), ('MLH', 5), ('KCK', 5), ('INO', 5), ('BLB', 4), ('NOJ', 3), ('KCO', 3), ('CHA', 3), ('TRI', 2), ('CHZ', 2), ('CHO', 2), ('CAP', 2), ('Team', 1), ('SDC', 1), ('CHP', 1)]\n"
     ]
    }
   ],
   "source": [
    "#find how many times each team's players are selected to the all star games\n",
    "connection = sqlite3.connect('nbagames.db')\n",
    "cursor = connection.cursor()\n",
    "\n",
    "sql_2 = \"\"\"\n",
    "SELECT orginalteam, count(mvp) as counts\n",
    "FROM games\n",
    "GROUP BY orginalteam\n",
    "ORDER BY counts DESC;\n",
    "\"\"\"\n",
    "\n",
    "cursor.execute(sql_2)\n",
    "allteams = cursor.fetchall() # a list of tuples\n",
    "print(allteams)"
   ]
  },
  {
   "cell_type": "code",
   "execution_count": 16,
   "metadata": {},
   "outputs": [
    {
     "name": "stdout",
     "output_type": "stream",
     "text": [
      "[('Jaylen Brown', 2021), ('Jayson Tatum', 2021), ('Jayson Tatum', 2020), ('Kemba Walker', 2020), ('Kyrie Irving', 2019), ('Al Horford', 2018), ('Kyrie Irving', 2018), ('Isaiah Thomas', 2017), ('Isaiah Thomas', 2016), ('Kevin Garnett', 2013), ('Rajon Rondo', 2013), ('Paul Pierce', 2012), ('Rajon Rondo', 2012), ('Kevin Garnett', 2011), ('Paul Pierce', 2011), ('Rajon Rondo', 2011), ('Ray Allen', 2011), ('Kevin Garnett', 2010), ('Paul Pierce', 2010), ('Rajon Rondo', 2010), ('Kevin Garnett', 2009), ('Paul Pierce', 2009), ('Ray Allen', 2009), ('Kevin Garnett', 2008), ('Paul Pierce', 2008), ('Ray Allen', 2008), ('Paul Pierce', 2006), ('Paul Pierce', 2005), ('Paul Pierce', 2004), ('Antoine Walker', 2003), ('Paul Pierce', 2003), ('Antoine Walker', 2002), ('Paul Pierce', 2002), ('Antoine Walker', 1998), ('Larry Bird', 1992), ('Reggie Lewis', 1992), ('Kevin McHale', 1991), ('Larry Bird', 1991), ('Robert Parish', 1991), ('Kevin McHale', 1990), ('Larry Bird', 1990), ('Robert Parish', 1990), ('Kevin McHale', 1989), ('Danny Ainge', 1988), ('Kevin McHale', 1988), ('Larry Bird', 1988), ('Kevin McHale', 1987), ('Larry Bird', 1987), ('Robert Parish', 1987), ('Kevin McHale', 1986), ('Larry Bird', 1986), ('Robert Parish', 1986), ('Dennis Johnson', 1985), ('Larry Bird', 1985), ('Robert Parish', 1985), ('Kevin McHale', 1984), ('Larry Bird', 1984), ('Robert Parish', 1984), ('Larry Bird', 1983), ('Robert Parish', 1983), ('Larry Bird', 1982), ('Robert Parish', 1982), ('Tiny Archibald', 1982), ('Larry Bird', 1981), ('Robert Parish', 1981), ('Tiny Archibald', 1981), ('Larry Bird', 1980), ('Tiny Archibald', 1980), ('Dave Cowens', 1978), ('John Havlicek', 1978), ('Jo Jo White', 1977), ('John Havlicek', 1977), ('Dave Cowens', 1976), ('Jo Jo White', 1976), ('John Havlicek', 1976), ('Dave Cowens', 1975), ('Jo Jo White', 1975), ('John Havlicek', 1975), ('Paul Silas', 1975), ('Dave Cowens', 1974), ('Jo Jo White', 1974), ('John Havlicek', 1974), ('Dave Cowens', 1973), ('Jo Jo White', 1973), ('John Havlicek', 1973), ('Dave Cowens', 1972), ('Jo Jo White', 1972), ('John Havlicek', 1972), ('Jo Jo White', 1971), ('John Havlicek', 1971), ('John Havlicek', 1970), ('Bill Russell', 1969), ('John Havlicek', 1969), ('Bill Russell', 1968), ('John Havlicek', 1968), ('Sam Jones', 1968), ('Bailey Howell', 1967), ('Bill Russell', 1967), ('John Havlicek', 1967), ('Bill Russell', 1966), ('John Havlicek', 1966), ('Sam Jones', 1966), ('Bill Russell', 1965), ('Sam Jones', 1965), ('Bill Russell', 1964), ('Sam Jones', 1964), ('Tom Heinsohn', 1964), ('Bill Russell', 1963), ('Bob Cousy', 1963), ('Tom Heinsohn', 1963), ('Bill Russell', 1962), ('Bob Cousy', 1962), ('Sam Jones', 1962), ('Tom Heinsohn', 1962), ('Bill Russell', 1961), ('Bob Cousy', 1961), ('Tom Heinsohn', 1961), ('Bill Russell', 1960), ('Bill Sharman', 1960), ('Bob Cousy', 1960), ('Bill Russell', 1959), ('Bill Sharman', 1959), ('Bob Cousy', 1959), ('Bill Russell', 1958), ('Bill Sharman', 1958), ('Bob Cousy', 1958), ('Bill Sharman', 1957), ('Bob Cousy', 1957), ('Tom Heinsohn', 1957), ('Bill Sharman', 1956), ('Bob Cousy', 1956), ('Ed Macauley', 1956), ('Bill Sharman', 1955), ('Bob Cousy', 1955), ('Ed Macauley', 1955), ('Bill Sharman', 1954), ('Bob Cousy', 1954), ('Ed Macauley', 1954), ('Bill Sharman', 1953), ('Bob Cousy', 1953), ('Ed Macauley', 1953), ('Bob Cousy', 1952), ('Ed Macauley', 1952), ('Bob Cousy', 1951), ('Ed Macauley', 1951)]\n"
     ]
    }
   ],
   "source": [
    "#find players in BOS celtics history that enter the all star games\n",
    "connection = sqlite3.connect('nbagames.db')\n",
    "cursor = connection.cursor()\n",
    "\n",
    "sql_3 = \"\"\"\n",
    "SELECT player, year\n",
    "FROM games\n",
    "where orginalteam = \"BOS\"\n",
    "ORDER BY year DESC, player ASC;\n",
    "\"\"\"\n",
    "\n",
    "cursor.execute(sql_3)\n",
    "playersBOS = cursor.fetchall() # a list of tuples\n",
    "print(playersBOS)"
   ]
  },
  {
   "cell_type": "code",
   "execution_count": 31,
   "metadata": {},
   "outputs": [
    {
     "name": "stdout",
     "output_type": "stream",
     "text": [
      "      0                      1  2\n",
      "0   BOS             Larry Bird  1\n",
      "1   BOS         Tiny Archibald  2\n",
      "2   CHH              Glen Rice  1\n",
      "3   CHI         Michael Jordan  1\n",
      "4   CHI         Michael Jordan  1\n",
      "5   CHI         Michael Jordan  1\n",
      "6   CHI         Scottie Pippen  2\n",
      "7   CLE           Kyrie Irving  1\n",
      "8   CLE           LeBron James  2\n",
      "9   CLE           LeBron James  2\n",
      "10  CLE           LeBron James  2\n",
      "11  DET           Isiah Thomas  1\n",
      "12  DET           Isiah Thomas  1\n",
      "13  GSW           Kevin Durant  1\n",
      "14  HOU          Ralph Sampson  1\n",
      "15  LAC             Chris Paul  1\n",
      "16  LAC          Kawhi Leonard  2\n",
      "17  LAL            Kobe Bryant  1\n",
      "18  LAL            Kobe Bryant  1\n",
      "19  LAL            Kobe Bryant  1\n",
      "20  LAL            Kobe Bryant  1\n",
      "21  LAL          Magic Johnson  2\n",
      "22  LAL          Magic Johnson  2\n",
      "23  LAL       Shaquille O'Neal  3\n",
      "24  LAL       Shaquille O'Neal  3\n",
      "25  MIA            Dwyane Wade  1\n",
      "26  MIL  Giannis Antetokounmpo  1\n",
      "27  MIN          Kevin Garnett  1\n",
      "28  NOP          Anthony Davis  1\n",
      "29  OKC           Kevin Durant  1\n",
      "30  OKC      Russell Westbrook  2\n",
      "31  OKC      Russell Westbrook  2\n",
      "32  PHI          Allen Iverson  1\n",
      "33  PHI          Allen Iverson  1\n",
      "34  PHI        Charles Barkley  2\n",
      "35  PHI          Julius Erving  3\n",
      "36  PHO       Shaquille O'Neal  1\n",
      "37  SAC         Mitch Richmond  1\n",
      "38  SAS          George Gervin  1\n",
      "39  SAS             Tim Duncan  2\n",
      "40  SEA           Tom Chambers  1\n",
      "41  UTA          John Stockton  1\n",
      "42  UTA            Karl Malone  2\n",
      "43  UTA            Karl Malone  2\n"
     ]
    }
   ],
   "source": [
    "#find the number of MVPs each team win and the players name\n",
    "connection = sqlite3.connect('nbagames.db')\n",
    "cursor = connection.cursor()\n",
    "\n",
    "sql_3 = \"\"\"\n",
    "SELECT  orginalteam, player, dense_rank() over(partition by orginalteam order by player asc) as ranking\n",
    "FROM games\n",
    "where mvp = \"Y\" and year >= 1980;\n",
    "\"\"\"\n",
    "\n",
    "cursor.execute(sql_3)\n",
    "mvpplayers = cursor.fetchall() # a list of tuples\n",
    "df2 = pd.DataFrame(mvpplayers)\n",
    "print(df2)"
   ]
  },
  {
   "cell_type": "code",
   "execution_count": 30,
   "metadata": {},
   "outputs": [
    {
     "name": "stdout",
     "output_type": "stream",
     "text": [
      "    0    1\n",
      "0  69  438\n"
     ]
    }
   ],
   "source": [
    "#find out the distinct starter player from BOS and all the distinct starters from all the teams\n",
    "connection = sqlite3.connect('nbagames.db')\n",
    "cursor = connection.cursor()\n",
    "\n",
    "sql_4 = \"\"\"\n",
    "\n",
    "select sum(case when orginalteam = \"BOS\" and role = \"Starter\" then 1 else 0 end) as bosplayers, \n",
    "count(distinct player) as allplayers\n",
    "from games ;\n",
    "\"\"\"\n",
    "\n",
    "cursor.execute(sql_4)\n",
    "percentage = cursor.fetchall() # a list of tuples\n",
    "df3 = pd.DataFrame(percentage)\n",
    "print(df3)"
   ]
  },
  {
   "cell_type": "code",
   "execution_count": 35,
   "metadata": {},
   "outputs": [
    {
     "name": "stdout",
     "output_type": "stream",
     "text": [
      "    0\n",
      "0  16\n"
     ]
    }
   ],
   "source": [
    "# find how many times kobe bryant enter the all star games in consecutive years\n",
    "connection = sqlite3.connect('nbagames.db')\n",
    "cursor = connection.cursor()\n",
    "\n",
    "sql_5 = \"\"\"\n",
    "with a1 as (select * from games where player = \"Kobe Bryant\")\n",
    "\n",
    "select count(player) as number\n",
    "from(\n",
    "select player, (year - lag(year,1) over(order by year desc)) as diff\n",
    "from a1) a2\n",
    "where a2.diff = -1.0\n",
    "\"\"\"\n",
    "\n",
    "cursor.execute(sql_5)\n",
    "kb = cursor.fetchall() # a list of tuples\n",
    "df4 = pd.DataFrame(kb)\n",
    "print(df4)"
   ]
  }
 ],
 "metadata": {
  "kernelspec": {
   "display_name": "Python 3.10.4 64-bit",
   "language": "python",
   "name": "python3"
  },
  "language_info": {
   "codemirror_mode": {
    "name": "ipython",
    "version": 3
   },
   "file_extension": ".py",
   "mimetype": "text/x-python",
   "name": "python",
   "nbconvert_exporter": "python",
   "pygments_lexer": "ipython3",
   "version": "3.10.4"
  },
  "orig_nbformat": 4,
  "vscode": {
   "interpreter": {
    "hash": "3ad933181bd8a04b432d3370b9dc3b0662ad032c4dfaa4e4f1596c548f763858"
   }
  }
 },
 "nbformat": 4,
 "nbformat_minor": 2
}
